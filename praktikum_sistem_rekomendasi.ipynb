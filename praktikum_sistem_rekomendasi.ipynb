{
  "nbformat": 4,
  "nbformat_minor": 0,
  "metadata": {
    "colab": {
      "name": "praktikum sistem rekomendasi.ipynb",
      "provenance": [],
      "collapsed_sections": [],
      "authorship_tag": "ABX9TyPf3m36g5ZjBzv8tkUDjcay",
      "include_colab_link": true
    },
    "kernelspec": {
      "name": "python3",
      "display_name": "Python 3"
    },
    "language_info": {
      "name": "python"
    }
  },
  "cells": [
    {
      "cell_type": "markdown",
      "metadata": {
        "id": "view-in-github",
        "colab_type": "text"
      },
      "source": [
        "<a href=\"https://colab.research.google.com/github/Ihbar1/ihbar.github.io/blob/main/praktikum_sistem_rekomendasi.ipynb\" target=\"_parent\"><img src=\"https://colab.research.google.com/assets/colab-badge.svg\" alt=\"Open In Colab\"/></a>"
      ]
    },
    {
      "cell_type": "code",
      "execution_count": 12,
      "metadata": {
        "id": "UNkBsi_MSiDN"
      },
      "outputs": [],
      "source": [
        "#Membaca data - data yang telah di unzib mengunakan fungsi pandas.read_csv\n",
        "import pandas as pd\n",
        "\n",
        "movies = pd.read_csv('sampleMovies.csv')\n",
        "ratings = pd.read_csv('sampleRatings.csv')"
      ]
    },
    {
      "cell_type": "code",
      "source": [
        "print('jumlah data film: ', len(movies.MovieId.unique()))\n",
        "print('jumlah data rating film: ', len(ratings.MovieId.unique()))\n",
        "print('jumlah data user: ', len(ratings.UserId.unique()))"
      ],
      "metadata": {
        "colab": {
          "base_uri": "https://localhost:8080/"
        },
        "id": "RtF98jeJYSvB",
        "outputId": "9c4543c7-e900-4902-97aa-32f463f4360f"
      },
      "execution_count": 13,
      "outputs": [
        {
          "output_type": "stream",
          "name": "stdout",
          "text": [
            "jumlah data film:  838\n",
            "jumlah data rating film:  838\n",
            "jumlah data user:  11\n"
          ]
        }
      ]
    },
    {
      "cell_type": "code",
      "source": [
        "movies.info()"
      ],
      "metadata": {
        "colab": {
          "base_uri": "https://localhost:8080/"
        },
        "id": "NDHRQlg7b1kE",
        "outputId": "34b19869-8444-4327-f5ac-db0937d8baf6"
      },
      "execution_count": 14,
      "outputs": [
        {
          "output_type": "stream",
          "name": "stdout",
          "text": [
            "<class 'pandas.core.frame.DataFrame'>\n",
            "RangeIndex: 838 entries, 0 to 837\n",
            "Data columns (total 27 columns):\n",
            " #   Column       Non-Null Count  Dtype \n",
            "---  ------       --------------  ----- \n",
            " 0   MovieId      838 non-null    int64 \n",
            " 1   Title        838 non-null    object\n",
            " 2   Genre        838 non-null    object\n",
            " 3   Description  838 non-null    object\n",
            " 4   Director     838 non-null    object\n",
            " 5   Year         838 non-null    int64 \n",
            " 6   Actors       838 non-null    object\n",
            " 7   Action       838 non-null    int64 \n",
            " 8   Adventure    838 non-null    int64 \n",
            " 9   Aniimation   838 non-null    int64 \n",
            " 10  Biography    838 non-null    int64 \n",
            " 11  Comedy       838 non-null    int64 \n",
            " 12  Crime        838 non-null    int64 \n",
            " 13  Drama        838 non-null    int64 \n",
            " 14  Family       838 non-null    int64 \n",
            " 15  Fantasy      838 non-null    int64 \n",
            " 16  History      838 non-null    int64 \n",
            " 17  Horror       838 non-null    int64 \n",
            " 18  Music        838 non-null    int64 \n",
            " 19  Musical      838 non-null    int64 \n",
            " 20  Mystery      838 non-null    int64 \n",
            " 21  Romance      838 non-null    int64 \n",
            " 22  Sci-Fi       838 non-null    int64 \n",
            " 23  Sport        838 non-null    int64 \n",
            " 24  Thriller     838 non-null    int64 \n",
            " 25  War          838 non-null    int64 \n",
            " 26  Western      838 non-null    int64 \n",
            "dtypes: int64(22), object(5)\n",
            "memory usage: 176.9+ KB\n"
          ]
        }
      ]
    },
    {
      "cell_type": "code",
      "source": [
        "ratings.info()"
      ],
      "metadata": {
        "colab": {
          "base_uri": "https://localhost:8080/"
        },
        "id": "_dPj1pd5b8dL",
        "outputId": "c2d2f176-eb1a-4ff7-9067-75b432acea92"
      },
      "execution_count": 15,
      "outputs": [
        {
          "output_type": "stream",
          "name": "stdout",
          "text": [
            "<class 'pandas.core.frame.DataFrame'>\n",
            "RangeIndex: 838 entries, 0 to 837\n",
            "Data columns (total 4 columns):\n",
            " #   Column            Non-Null Count  Dtype  \n",
            "---  ------            --------------  -----  \n",
            " 0   UserId            838 non-null    int64  \n",
            " 1   MovieId           838 non-null    int64  \n",
            " 2   Rating            809 non-null    float64\n",
            " 3   Runtime(Minutes)  838 non-null    int64  \n",
            "dtypes: float64(1), int64(3)\n",
            "memory usage: 26.3 KB\n"
          ]
        }
      ]
    },
    {
      "cell_type": "code",
      "source": [
        "print('Banyak data: ', len(movies.MovieId.unique()))\n",
        "print('Jenis genre film:' , movies.Genre.unique())"
      ],
      "metadata": {
        "colab": {
          "base_uri": "https://localhost:8080/"
        },
        "id": "nJKyOrHDcMo-",
        "outputId": "b4e4f8d6-5adb-4503-d378-08fe7a0855c9"
      },
      "execution_count": 22,
      "outputs": [
        {
          "output_type": "stream",
          "name": "stdout",
          "text": [
            "Banyak data:  838\n",
            "Jenis genre film: ['Action,Adventure,Sci-Fi' 'Adventure,Mystery,Sci-Fi' 'Horror,Thriller'\n",
            " 'Animation,Comedy,Family' 'Action,Adventure,Fantasy' 'Comedy,Drama,Music'\n",
            " 'Action,Adventure,Biography' 'Adventure,Drama,Romance'\n",
            " 'Adventure,Family,Fantasy' 'Biography,Drama,History'\n",
            " 'Animation,Adventure,Comedy' 'Action,Comedy,Drama' 'Action,Thriller'\n",
            " 'Biography,Drama' 'Drama,Mystery,Sci-Fi' 'Adventure,Drama,Thriller'\n",
            " 'Drama' 'Comedy' 'Action,Adventure,Drama' 'Drama,Thriller'\n",
            " 'Action,Adventure,Comedy' 'Action,Horror,Sci-Fi' 'Adventure,Drama,Sci-Fi'\n",
            " 'Action,Adventure,Western' 'Comedy,Drama' 'Action,Crime,Thriller'\n",
            " 'Action,Crime,Drama' 'Adventure,Drama,History' 'Crime,Horror,Thriller'\n",
            " 'Drama,Romance' 'Comedy,Drama,Romance' 'Crime,Drama,Mystery'\n",
            " 'Drama,Romance,Thriller' 'Drama,History,Thriller' 'Action,Drama,Thriller'\n",
            " 'Action,Drama,Romance' 'Drama,Fantasy' 'Action,Sci-Fi'\n",
            " 'Adventure,Drama,War' 'Action,Comedy,Fantasy' 'Biography,Comedy,Crime'\n",
            " 'Crime,Drama' 'Comedy,Crime,Drama' 'Action,Comedy,Crime'\n",
            " 'Animation,Drama,Fantasy' 'Horror,Mystery,Sci-Fi'\n",
            " 'Drama,Mystery,Thriller' 'Crime,Drama,Thriller' 'Biography,Crime,Drama'\n",
            " 'Action,Horror,Thriller' 'Action,Fantasy,War' 'Adventure,Drama,Fantasy'\n",
            " 'Drama,Horror,Mystery' 'Adventure,Drama,Family'\n",
            " 'Adventure,Comedy,Romance' 'Adventure,Crime,Mystery'\n",
            " 'Comedy,Family,Musical' 'Adventure,Comedy,Drama' 'Drama,Horror,Thriller'\n",
            " 'Drama,Music' 'Mystery,Thriller' 'Comedy,Family' 'Biography,Comedy,Drama'\n",
            " 'Drama,Western' 'Drama,Mystery,Romance' 'Action,Drama,Mystery'\n",
            " 'Action,Adventure,Crime' 'Adventure,Sci-Fi,Thriller'\n",
            " 'Action,Comedy,Mystery' 'Action,Adventure,Thriller'\n",
            " 'Drama,Fantasy,Romance' 'Action,Drama,History'\n",
            " 'Animation,Adventure,Family' 'Drama,Romance,Sci-Fi'\n",
            " 'Action,Adventure,Family' 'Action,Comedy' 'Horror,Mystery,Thriller'\n",
            " 'Comedy,Romance' 'Horror,Mystery' 'Drama,Family,Fantasy' 'Drama,War'\n",
            " 'Drama,Fantasy,Horror' 'Crime,Drama,History' 'Horror,Sci-Fi,Thriller'\n",
            " 'Action,Drama,Sport' 'Adventure,Biography,Drama'\n",
            " 'Biography,Drama,Thriller' 'Action,Adventure,Mystery' 'Drama,Horror'\n",
            " 'Comedy,Crime' 'Drama,Fantasy,War' 'Action,Adventure,Romance'\n",
            " 'Action,Drama,War' 'Drama,Musical,Romance' 'Drama,Sci-Fi,Thriller'\n",
            " 'Action,Drama,Sci-Fi' 'Horror' 'Drama,Sci-Fi' 'Adventure,Fantasy'\n",
            " 'Crime,Mystery,Thriller' 'Biography,Drama,Romance' 'Action,Adventure'\n",
            " 'Action,Fantasy' 'Action,Drama,Horror' 'Comedy,Music,Romance'\n",
            " 'Drama,History' 'Action,Biography,Drama' 'Biography,Drama,Sport'\n",
            " 'Comedy,Horror,Thriller' 'Crime,Drama,Music' 'Action,Sci-Fi,Thriller'\n",
            " 'Drama,Horror,Sci-Fi' 'Comedy,Horror' 'Comedy,Fantasy,Romance'\n",
            " 'Comedy,Fantasy' 'Comedy,Drama,Fantasy' 'Adventure,Comedy,Horror'\n",
            " 'Comedy,Mystery' 'Action,Mystery,Sci-Fi' 'Action,Crime,Fantasy'\n",
            " 'Drama,Sport' 'Comedy,Fantasy,Horror' 'Animation,Action,Adventure'\n",
            " 'Action,Comedy,Family' 'Adventure,Comedy' 'Comedy,Music'\n",
            " 'Comedy,Drama,Horror' 'Action,Horror,Romance' 'Action,Drama,Fantasy'\n",
            " 'Action,Mystery,Thriller' 'Action,Adventure,Horror'\n",
            " 'Animation,Family,Fantasy' 'Action,Horror,Mystery'\n",
            " 'Adventure,Comedy,Family' 'Action,Crime,Mystery' 'Comedy,Drama,Family'\n",
            " 'Action,Crime,Sport' 'Mystery,Sci-Fi,Thriller' 'Sci-Fi,Thriller'\n",
            " 'Adventure,Drama,Horror' 'Biography,History,Thriller' 'Adventure,Horror'\n",
            " 'Adventure,Comedy,Sci-Fi' 'Fantasy,Horror' 'Action'\n",
            " 'Action,Fantasy,Thriller' 'Comedy,Romance,Sport'\n",
            " 'Animation,Action,Comedy' 'Drama,Fantasy,Thriller' 'Sci-Fi'\n",
            " 'Action,Comedy,Romance' 'Action,Fantasy,Horror' 'Mystery,Romance,Sci-Fi'\n",
            " 'Comedy,Drama,Thriller' 'Drama,History,War' 'Drama,Horror,Musical'\n",
            " 'Animation,Fantasy' 'Drama,Mystery,War' 'Action,Drama,Family' 'Thriller'\n",
            " 'Adventure,Drama,Western' 'Drama,Music,Romance' 'Comedy,Romance,Western'\n",
            " 'Drama,Thriller,War' 'Drama,Fantasy,Mystery' 'Comedy,Crime,Thriller'\n",
            " 'Animation,Comedy,Drama' 'Action,Comedy,Sci-Fi'\n",
            " 'Adventure,Fantasy,Mystery' 'Mystery,Romance,Thriller'\n",
            " 'Biography,Drama,Mystery' 'Comedy,Horror,Romance' 'Action,Thriller,War'\n",
            " 'Action,Crime,Sci-Fi' 'Crime,Thriller' 'Comedy,Horror,Sci-Fi'\n",
            " 'Crime,Drama,Fantasy' 'Action,Comedy,Horror' 'Drama,Fantasy,Music'\n",
            " 'Action,Comedy,Sport' 'Adventure' 'Comedy,Drama,Musical'\n",
            " 'Comedy,Family,Romance' 'Biography,Drama,Family' 'Drama,Fantasy,Musical'\n",
            " 'Adventure,Family' 'Adventure,Comedy,Fantasy' 'Drama,Family,Music'\n",
            " 'Comedy,Family,Fantasy']\n"
          ]
        }
      ]
    },
    {
      "cell_type": "code",
      "source": [
        "print('Banyak jumlah rating:' , len(ratings.Rating.unique()))\n",
        "print('jumlah rating berdasarkan user movie id:' , len(ratings.MovieId.unique()))\n",
        "print('jumlah rating berdasarkan user id:' , len(ratings.UserId.unique()))\n",
        "print('rating :',ratings.Rating.unique())"
      ],
      "metadata": {
        "colab": {
          "base_uri": "https://localhost:8080/"
        },
        "id": "1DIGXY-Jdifp",
        "outputId": "eff5ace7-2f19-47db-cd8c-f296d592dd0a"
      },
      "execution_count": 23,
      "outputs": [
        {
          "output_type": "stream",
          "name": "stdout",
          "text": [
            "Banyak jumlah rating: 51\n",
            "jumlah rating berdasarkan user movie id: 838\n",
            "jumlah rating berdasarkan user id: 11\n",
            "rating : [8.1 7.  7.3 7.2 6.2 6.1 8.3 7.1 nan 7.5 7.8 7.9 7.7 6.4 6.6 8.2 6.7 8.\n",
            " 6.5 5.3 5.9 6.3 5.6 8.6 7.6 6.9 5.8 9.  7.4 4.1 8.5 6.8 8.8 5.4 6.  5.7\n",
            " 8.4 4.7 5.2 5.5 3.9 4.9 5.1 4.3 5.  4.6 4.  1.9 2.7 4.4 4.8]\n"
          ]
        }
      ]
    },
    {
      "cell_type": "code",
      "source": [
        ""
      ],
      "metadata": {
        "id": "HhZghq5Fdkfk"
      },
      "execution_count": null,
      "outputs": []
    }
  ]
}