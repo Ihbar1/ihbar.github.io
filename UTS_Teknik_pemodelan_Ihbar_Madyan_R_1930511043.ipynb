{
  "nbformat": 4,
  "nbformat_minor": 0,
  "metadata": {
    "colab": {
      "provenance": [],
      "authorship_tag": "ABX9TyMauD0xvWPNWk4IM51a75aa",
      "include_colab_link": true
    },
    "kernelspec": {
      "name": "python3",
      "display_name": "Python 3"
    },
    "language_info": {
      "name": "python"
    }
  },
  "cells": [
    {
      "cell_type": "markdown",
      "metadata": {
        "id": "view-in-github",
        "colab_type": "text"
      },
      "source": [
        "<a href=\"https://colab.research.google.com/github/Ihbar1/ihbar.github.io/blob/main/UTS_Teknik_pemodelan_Ihbar_Madyan_R_1930511043.ipynb\" target=\"_parent\"><img src=\"https://colab.research.google.com/assets/colab-badge.svg\" alt=\"Open In Colab\"/></a>"
      ]
    },
    {
      "cell_type": "code",
      "execution_count": 20,
      "metadata": {
        "colab": {
          "base_uri": "https://localhost:8080/"
        },
        "id": "7CHaoSYN9RJG",
        "outputId": "d2834fe8-9092-4288-cc1a-fab884c83791"
      },
      "outputs": [
        {
          "output_type": "stream",
          "name": "stdout",
          "text": [
            "Data Ujian Seleksi Kerja\n",
            "Masukan_Nama :B\n",
            "Masukan_No_regis :5\n",
            "Jumlah_Kehadiran :9\n",
            "Nilai_TGS1 :80\n",
            "Nilai_TGS2 :70\n",
            "pemahaman_materi :70\n",
            "perolehan_akhir :69\n",
            "Nama :B\n",
            "No_regis :5\n",
            "Nilai_Akhir : 52\n",
            "grade :D\n",
            "Keterangan : TIDAK LULUS\n"
          ]
        }
      ],
      "source": [
        "print(\"Data Ujian Seleksi Kerja\") \n",
        "# library perhitungan random \n",
        "from random import randint\n",
        "#ini adalah perhitungan nilai secara komputasi \n",
        "\n",
        "for i in range(30):     \n",
        "    kehadiran = (randint(0, 16));     \n",
        "    TGS1 = float (randint(10,100 ));   \n",
        "    TGS2 = float (randint(10,100 ));     \n",
        "    pemahaman_materi= float (randint(10,100 ));     \n",
        "    perolehan_akhir = float (randint(10,100 ));\n",
        "\n",
        "nama = input(\"Masukan_Nama :\") \n",
        "No_regis =  input (\"Masukan_No_regis :\") \n",
        "Kehadiran = float (input(\"Jumlah_Kehadiran :\")) \n",
        "TGS1= float(input(\"Nilai_TGS1 :\")) \n",
        "TG2= float(input(\"Nilai_TGS2 :\")) \n",
        "pemahaman_materi= float(input(\"pemahaman_materi :\")) \n",
        "perolehan_Akhir= float(input(\"perolehan_akhir :\")) \n",
        "\n",
        "kehadiran = int(Kehadiran *10/100) \n",
        "TGS1 = int(TGS1*30/100) \n",
        "TGS2= int(TGS2*10/100) \n",
        "pemahaman_materi = int(pemahaman_materi*20/100) \n",
        "perolehan_akhir = int(perolehan_akhir *30/100)\n",
        "\n",
        "#menghitung nilai akhir \n",
        "\n",
        "nilai_akhir = kehadiran + TGS1 + TGS2 + pemahaman_materi + perolehan_akhir\n",
        "\n",
        "print(\"Nama :\"+nama) \n",
        "print(\"No_regis :\"+No_regis) \n",
        "print(\"Nilai_Akhir :\", int (nilai_akhir))\n",
        "\n",
        "#ketentuan lulus menurut grade  \n",
        "if nilai_akhir >= 80:     \n",
        "  print(\"grade : A\") \n",
        "elif nilai_akhir >= 70:     \n",
        "  print(\"grade :B\") \n",
        "elif nilai_akhir >= 60:     \n",
        "  print(\"grade :C\") \n",
        "elif nilai_akhir >= 50: \n",
        "  print(\"grade :D\") \n",
        "elif nilai_akhir <= 49:\n",
        "  print(\"grade :E\")\n",
        "\n",
        "if nilai_akhir >=60:     \n",
        "  print(\"Keterangan : LULUS\") \n",
        "else :        \n",
        "  print(\"Keterangan : TIDAK LULUS\")"
      ]
    }
  ]
}