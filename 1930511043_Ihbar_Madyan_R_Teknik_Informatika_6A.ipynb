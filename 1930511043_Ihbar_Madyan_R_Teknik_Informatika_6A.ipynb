{
  "nbformat": 4,
  "nbformat_minor": 0,
  "metadata": {
    "colab": {
      "name": "1930511043_Ihbar Madyan R_Teknik Informatika 6A.ipynb",
      "provenance": [],
      "authorship_tag": "ABX9TyO5MvGccyA4sJot0tt5EJO+",
      "include_colab_link": true
    },
    "kernelspec": {
      "name": "python3",
      "display_name": "Python 3"
    },
    "language_info": {
      "name": "python"
    }
  },
  "cells": [
    {
      "cell_type": "markdown",
      "metadata": {
        "id": "view-in-github",
        "colab_type": "text"
      },
      "source": [
        "<a href=\"https://colab.research.google.com/github/Ihbar1/ihbar.github.io/blob/main/1930511043_Ihbar_Madyan_R_Teknik_Informatika_6A.ipynb\" target=\"_parent\"><img src=\"https://colab.research.google.com/assets/colab-badge.svg\" alt=\"Open In Colab\"/></a>"
      ]
    },
    {
      "cell_type": "code",
      "execution_count": 35,
      "metadata": {
        "colab": {
          "base_uri": "https://localhost:8080/",
          "height": 677
        },
        "id": "fVC_D0FAN4ka",
        "outputId": "60813947-6039-4309-b757-86171cc00958"
      },
      "outputs": [
        {
          "output_type": "execute_result",
          "data": {
            "text/plain": [
              "    RAM    Harga           Brand\n",
              "0     8  4299000            Oppo\n",
              "1     4  2439000            Oppo\n",
              "2     8  4360000            Oppo\n",
              "3     8  5999000            Oppo\n",
              "4     8  4950000            Oppo\n",
              "5     8  4599000  Samsung Galaxy\n",
              "6     6  5600000  Samsung Galaxy\n",
              "7     8  5199000  Samsung Galaxy\n",
              "8     4  2099000  Samsung Galaxy\n",
              "9     6  2679000  Samsung Galaxy\n",
              "10    6  2965000            Oppo\n",
              "11    8  2880000            Oppo\n",
              "12    3  1450000            Oppo\n",
              "13    3  1640000            Oppo\n",
              "14    4  2400000            Oppo\n",
              "15    8  3749000  Samsung Galaxy\n",
              "16    8  4500000  Samsung Galaxy\n",
              "17    4  2319000  Samsung Galaxy\n",
              "18    6  3359000  Samsung Galaxy\n",
              "19    3  1425000  Samsung Galaxy"
            ],
            "text/html": [
              "\n",
              "  <div id=\"df-0afc0083-25a6-44ae-a11a-6673af31f2f7\">\n",
              "    <div class=\"colab-df-container\">\n",
              "      <div>\n",
              "<style scoped>\n",
              "    .dataframe tbody tr th:only-of-type {\n",
              "        vertical-align: middle;\n",
              "    }\n",
              "\n",
              "    .dataframe tbody tr th {\n",
              "        vertical-align: top;\n",
              "    }\n",
              "\n",
              "    .dataframe thead th {\n",
              "        text-align: right;\n",
              "    }\n",
              "</style>\n",
              "<table border=\"1\" class=\"dataframe\">\n",
              "  <thead>\n",
              "    <tr style=\"text-align: right;\">\n",
              "      <th></th>\n",
              "      <th>RAM</th>\n",
              "      <th>Harga</th>\n",
              "      <th>Brand</th>\n",
              "    </tr>\n",
              "  </thead>\n",
              "  <tbody>\n",
              "    <tr>\n",
              "      <th>0</th>\n",
              "      <td>8</td>\n",
              "      <td>4299000</td>\n",
              "      <td>Oppo</td>\n",
              "    </tr>\n",
              "    <tr>\n",
              "      <th>1</th>\n",
              "      <td>4</td>\n",
              "      <td>2439000</td>\n",
              "      <td>Oppo</td>\n",
              "    </tr>\n",
              "    <tr>\n",
              "      <th>2</th>\n",
              "      <td>8</td>\n",
              "      <td>4360000</td>\n",
              "      <td>Oppo</td>\n",
              "    </tr>\n",
              "    <tr>\n",
              "      <th>3</th>\n",
              "      <td>8</td>\n",
              "      <td>5999000</td>\n",
              "      <td>Oppo</td>\n",
              "    </tr>\n",
              "    <tr>\n",
              "      <th>4</th>\n",
              "      <td>8</td>\n",
              "      <td>4950000</td>\n",
              "      <td>Oppo</td>\n",
              "    </tr>\n",
              "    <tr>\n",
              "      <th>5</th>\n",
              "      <td>8</td>\n",
              "      <td>4599000</td>\n",
              "      <td>Samsung Galaxy</td>\n",
              "    </tr>\n",
              "    <tr>\n",
              "      <th>6</th>\n",
              "      <td>6</td>\n",
              "      <td>5600000</td>\n",
              "      <td>Samsung Galaxy</td>\n",
              "    </tr>\n",
              "    <tr>\n",
              "      <th>7</th>\n",
              "      <td>8</td>\n",
              "      <td>5199000</td>\n",
              "      <td>Samsung Galaxy</td>\n",
              "    </tr>\n",
              "    <tr>\n",
              "      <th>8</th>\n",
              "      <td>4</td>\n",
              "      <td>2099000</td>\n",
              "      <td>Samsung Galaxy</td>\n",
              "    </tr>\n",
              "    <tr>\n",
              "      <th>9</th>\n",
              "      <td>6</td>\n",
              "      <td>2679000</td>\n",
              "      <td>Samsung Galaxy</td>\n",
              "    </tr>\n",
              "    <tr>\n",
              "      <th>10</th>\n",
              "      <td>6</td>\n",
              "      <td>2965000</td>\n",
              "      <td>Oppo</td>\n",
              "    </tr>\n",
              "    <tr>\n",
              "      <th>11</th>\n",
              "      <td>8</td>\n",
              "      <td>2880000</td>\n",
              "      <td>Oppo</td>\n",
              "    </tr>\n",
              "    <tr>\n",
              "      <th>12</th>\n",
              "      <td>3</td>\n",
              "      <td>1450000</td>\n",
              "      <td>Oppo</td>\n",
              "    </tr>\n",
              "    <tr>\n",
              "      <th>13</th>\n",
              "      <td>3</td>\n",
              "      <td>1640000</td>\n",
              "      <td>Oppo</td>\n",
              "    </tr>\n",
              "    <tr>\n",
              "      <th>14</th>\n",
              "      <td>4</td>\n",
              "      <td>2400000</td>\n",
              "      <td>Oppo</td>\n",
              "    </tr>\n",
              "    <tr>\n",
              "      <th>15</th>\n",
              "      <td>8</td>\n",
              "      <td>3749000</td>\n",
              "      <td>Samsung Galaxy</td>\n",
              "    </tr>\n",
              "    <tr>\n",
              "      <th>16</th>\n",
              "      <td>8</td>\n",
              "      <td>4500000</td>\n",
              "      <td>Samsung Galaxy</td>\n",
              "    </tr>\n",
              "    <tr>\n",
              "      <th>17</th>\n",
              "      <td>4</td>\n",
              "      <td>2319000</td>\n",
              "      <td>Samsung Galaxy</td>\n",
              "    </tr>\n",
              "    <tr>\n",
              "      <th>18</th>\n",
              "      <td>6</td>\n",
              "      <td>3359000</td>\n",
              "      <td>Samsung Galaxy</td>\n",
              "    </tr>\n",
              "    <tr>\n",
              "      <th>19</th>\n",
              "      <td>3</td>\n",
              "      <td>1425000</td>\n",
              "      <td>Samsung Galaxy</td>\n",
              "    </tr>\n",
              "  </tbody>\n",
              "</table>\n",
              "</div>\n",
              "      <button class=\"colab-df-convert\" onclick=\"convertToInteractive('df-0afc0083-25a6-44ae-a11a-6673af31f2f7')\"\n",
              "              title=\"Convert this dataframe to an interactive table.\"\n",
              "              style=\"display:none;\">\n",
              "        \n",
              "  <svg xmlns=\"http://www.w3.org/2000/svg\" height=\"24px\"viewBox=\"0 0 24 24\"\n",
              "       width=\"24px\">\n",
              "    <path d=\"M0 0h24v24H0V0z\" fill=\"none\"/>\n",
              "    <path d=\"M18.56 5.44l.94 2.06.94-2.06 2.06-.94-2.06-.94-.94-2.06-.94 2.06-2.06.94zm-11 1L8.5 8.5l.94-2.06 2.06-.94-2.06-.94L8.5 2.5l-.94 2.06-2.06.94zm10 10l.94 2.06.94-2.06 2.06-.94-2.06-.94-.94-2.06-.94 2.06-2.06.94z\"/><path d=\"M17.41 7.96l-1.37-1.37c-.4-.4-.92-.59-1.43-.59-.52 0-1.04.2-1.43.59L10.3 9.45l-7.72 7.72c-.78.78-.78 2.05 0 2.83L4 21.41c.39.39.9.59 1.41.59.51 0 1.02-.2 1.41-.59l7.78-7.78 2.81-2.81c.8-.78.8-2.07 0-2.86zM5.41 20L4 18.59l7.72-7.72 1.47 1.35L5.41 20z\"/>\n",
              "  </svg>\n",
              "      </button>\n",
              "      \n",
              "  <style>\n",
              "    .colab-df-container {\n",
              "      display:flex;\n",
              "      flex-wrap:wrap;\n",
              "      gap: 12px;\n",
              "    }\n",
              "\n",
              "    .colab-df-convert {\n",
              "      background-color: #E8F0FE;\n",
              "      border: none;\n",
              "      border-radius: 50%;\n",
              "      cursor: pointer;\n",
              "      display: none;\n",
              "      fill: #1967D2;\n",
              "      height: 32px;\n",
              "      padding: 0 0 0 0;\n",
              "      width: 32px;\n",
              "    }\n",
              "\n",
              "    .colab-df-convert:hover {\n",
              "      background-color: #E2EBFA;\n",
              "      box-shadow: 0px 1px 2px rgba(60, 64, 67, 0.3), 0px 1px 3px 1px rgba(60, 64, 67, 0.15);\n",
              "      fill: #174EA6;\n",
              "    }\n",
              "\n",
              "    [theme=dark] .colab-df-convert {\n",
              "      background-color: #3B4455;\n",
              "      fill: #D2E3FC;\n",
              "    }\n",
              "\n",
              "    [theme=dark] .colab-df-convert:hover {\n",
              "      background-color: #434B5C;\n",
              "      box-shadow: 0px 1px 3px 1px rgba(0, 0, 0, 0.15);\n",
              "      filter: drop-shadow(0px 1px 2px rgba(0, 0, 0, 0.3));\n",
              "      fill: #FFFFFF;\n",
              "    }\n",
              "  </style>\n",
              "\n",
              "      <script>\n",
              "        const buttonEl =\n",
              "          document.querySelector('#df-0afc0083-25a6-44ae-a11a-6673af31f2f7 button.colab-df-convert');\n",
              "        buttonEl.style.display =\n",
              "          google.colab.kernel.accessAllowed ? 'block' : 'none';\n",
              "\n",
              "        async function convertToInteractive(key) {\n",
              "          const element = document.querySelector('#df-0afc0083-25a6-44ae-a11a-6673af31f2f7');\n",
              "          const dataTable =\n",
              "            await google.colab.kernel.invokeFunction('convertToInteractive',\n",
              "                                                     [key], {});\n",
              "          if (!dataTable) return;\n",
              "\n",
              "          const docLinkHtml = 'Like what you see? Visit the ' +\n",
              "            '<a target=\"_blank\" href=https://colab.research.google.com/notebooks/data_table.ipynb>data table notebook</a>'\n",
              "            + ' to learn more about interactive tables.';\n",
              "          element.innerHTML = '';\n",
              "          dataTable['output_type'] = 'display_data';\n",
              "          await google.colab.output.renderOutput(dataTable, element);\n",
              "          const docLink = document.createElement('div');\n",
              "          docLink.innerHTML = docLinkHtml;\n",
              "          element.appendChild(docLink);\n",
              "        }\n",
              "      </script>\n",
              "    </div>\n",
              "  </div>\n",
              "  "
            ]
          },
          "metadata": {},
          "execution_count": 35
        }
      ],
      "source": [
        "# data diambil berdasarkan soal\n",
        "\n",
        "import pandas as pd\n",
        "\n",
        "hp = {\n",
        "    'RAM' : [8,4,8,8,8,8,6,8,4,6,6,8,3,3,4,8,8,4,6,3],\n",
        "    'Harga': [4299000,2439000,4360000,5999000,4950000,4599000,5600000,\n",
        "              5199000,2099000,2679000,2965000,2880000,1450000,1640000,\n",
        "              2400000,3749000,4500000,2319000,3359000,1425000],\n",
        "    'Brand': ['Oppo','Oppo','Oppo','Oppo','Oppo','Samsung Galaxy','Samsung Galaxy',\n",
        "              'Samsung Galaxy','Samsung Galaxy','Samsung Galaxy','Oppo','Oppo',\n",
        "              'Oppo','Oppo','Oppo','Samsung Galaxy','Samsung Galaxy','Samsung Galaxy',\n",
        "              'Samsung Galaxy','Samsung Galaxy']\n",
        "    }\n",
        "\n",
        "hp_df = pd.DataFrame(hp)\n",
        "hp_df"
      ]
    },
    {
      "cell_type": "code",
      "source": [
        "# Preprocessing data bertujuan untuk data bersih dari noise  \n",
        "# dan data lebih terstruktur\n",
        "\n",
        "import numpy as np \n",
        "\n",
        "x_train = np.array(hp_df[['RAM', 'Harga']])\n",
        "y_train = np.array(hp_df['Brand'])\n",
        "\n",
        "print(f'X_train:\\n{x_train}\\n')\n",
        "print(f'Y_train:\\n{y_train}\\n')"
      ],
      "metadata": {
        "colab": {
          "base_uri": "https://localhost:8080/"
        },
        "id": "OHQNk-LRON3n",
        "outputId": "b6c0fcfe-860b-4736-a47a-8f260c890a36"
      },
      "execution_count": 36,
      "outputs": [
        {
          "output_type": "stream",
          "name": "stdout",
          "text": [
            "X_train:\n",
            "[[      8 4299000]\n",
            " [      4 2439000]\n",
            " [      8 4360000]\n",
            " [      8 5999000]\n",
            " [      8 4950000]\n",
            " [      8 4599000]\n",
            " [      6 5600000]\n",
            " [      8 5199000]\n",
            " [      4 2099000]\n",
            " [      6 2679000]\n",
            " [      6 2965000]\n",
            " [      8 2880000]\n",
            " [      3 1450000]\n",
            " [      3 1640000]\n",
            " [      4 2400000]\n",
            " [      8 3749000]\n",
            " [      8 4500000]\n",
            " [      4 2319000]\n",
            " [      6 3359000]\n",
            " [      3 1425000]]\n",
            "\n",
            "Y_train:\n",
            "['Oppo' 'Oppo' 'Oppo' 'Oppo' 'Oppo' 'Samsung Galaxy' 'Samsung Galaxy'\n",
            " 'Samsung Galaxy' 'Samsung Galaxy' 'Samsung Galaxy' 'Oppo' 'Oppo' 'Oppo'\n",
            " 'Oppo' 'Oppo' 'Samsung Galaxy' 'Samsung Galaxy' 'Samsung Galaxy'\n",
            " 'Samsung Galaxy' 'Samsung Galaxy']\n",
            "\n"
          ]
        }
      ]
    },
    {
      "cell_type": "code",
      "source": [
        "from sklearn.preprocessing import LabelBinarizer\n",
        "\n",
        "lb = LabelBinarizer()\n",
        "y_train = lb.fit_transform(y_train)\n",
        "print (f'y_train:\\n{y_train}')"
      ],
      "metadata": {
        "colab": {
          "base_uri": "https://localhost:8080/"
        },
        "id": "zEpbetc-OQp1",
        "outputId": "dbcc40ca-6b49-4e5d-c29d-a0559d032832"
      },
      "execution_count": 37,
      "outputs": [
        {
          "output_type": "stream",
          "name": "stdout",
          "text": [
            "y_train:\n",
            "[[0]\n",
            " [0]\n",
            " [0]\n",
            " [0]\n",
            " [0]\n",
            " [1]\n",
            " [1]\n",
            " [1]\n",
            " [1]\n",
            " [1]\n",
            " [0]\n",
            " [0]\n",
            " [0]\n",
            " [0]\n",
            " [0]\n",
            " [1]\n",
            " [1]\n",
            " [1]\n",
            " [1]\n",
            " [1]]\n"
          ]
        }
      ]
    },
    {
      "cell_type": "code",
      "source": [
        "# hasil yang didapat 0 1 berupa brand 0 = Oppo dan 1 = Samsung Galaxy\n",
        "\n",
        "y_train = y_train.flatten()\n",
        "print(f'y_train: {y_train}')"
      ],
      "metadata": {
        "colab": {
          "base_uri": "https://localhost:8080/"
        },
        "id": "mh0bdUtGOf6S",
        "outputId": "4b7603bc-c457-4829-a73e-c56946f00114"
      },
      "execution_count": 38,
      "outputs": [
        {
          "output_type": "stream",
          "name": "stdout",
          "text": [
            "y_train: [0 0 0 0 0 1 1 1 1 1 0 0 0 0 0 1 1 1 1 1]\n"
          ]
        }
      ]
    },
    {
      "cell_type": "code",
      "source": [
        "# Menentukan K atau tetangga terdekatnya yaitu berjumlah 3\n",
        "\n",
        "from sklearn.neighbors import KNeighborsClassifier\n",
        "\n",
        "K=3\n",
        "\n",
        "model = KNeighborsClassifier(n_neighbors=K)\n",
        "model.fit(x_train, y_train)"
      ],
      "metadata": {
        "colab": {
          "base_uri": "https://localhost:8080/"
        },
        "id": "S5A8jjzoOjGI",
        "outputId": "5d7674b9-c014-458d-c44b-1a158d78d3fe"
      },
      "execution_count": 39,
      "outputs": [
        {
          "output_type": "execute_result",
          "data": {
            "text/plain": [
              "KNeighborsClassifier(n_neighbors=3)"
            ]
          },
          "metadata": {},
          "execution_count": 39
        }
      ]
    },
    {
      "cell_type": "code",
      "source": [
        "# Memasukan data baru yang akan ditentukan brandnya berdasar RAM dan Harga\n",
        "\n",
        "RAM = 8\n",
        "Harga = 3800000\n",
        "x_new = np.array([RAM, Harga]).reshape(1, -1)\n",
        "x_new"
      ],
      "metadata": {
        "colab": {
          "base_uri": "https://localhost:8080/"
        },
        "id": "1H3zmI_gOluK",
        "outputId": "cf3a2641-ec53-4a35-c166-7d7e60b6340f"
      },
      "execution_count": 40,
      "outputs": [
        {
          "output_type": "execute_result",
          "data": {
            "text/plain": [
              "array([[      8, 3800000]])"
            ]
          },
          "metadata": {},
          "execution_count": 40
        }
      ]
    },
    {
      "cell_type": "code",
      "source": [
        "# Memprediksi brand berdasar data baru yang telah dimasukan\n",
        "\n",
        "y_new = model.predict(x_new)\n",
        "y_new"
      ],
      "metadata": {
        "colab": {
          "base_uri": "https://localhost:8080/"
        },
        "id": "RAUaAlHCOpud",
        "outputId": "fa948d89-44ee-4bae-8328-1c59b67346df"
      },
      "execution_count": 41,
      "outputs": [
        {
          "output_type": "execute_result",
          "data": {
            "text/plain": [
              "array([1])"
            ]
          },
          "metadata": {},
          "execution_count": 41
        }
      ]
    },
    {
      "cell_type": "code",
      "source": [
        "# yaitu data tersebut memiliki kedekatan dengan brand Samsung\n",
        "\n",
        "lb.inverse_transform(y_new)"
      ],
      "metadata": {
        "colab": {
          "base_uri": "https://localhost:8080/"
        },
        "id": "fhh6yK5_Os_3",
        "outputId": "62a7fe46-fd0a-4ae4-c703-8743d6a8780d"
      },
      "execution_count": 42,
      "outputs": [
        {
          "output_type": "execute_result",
          "data": {
            "text/plain": [
              "array(['Samsung Galaxy'], dtype='<U14')"
            ]
          },
          "metadata": {},
          "execution_count": 42
        }
      ]
    },
    {
      "cell_type": "code",
      "source": [
        "# Dihitung secara Manual\n",
        "\n",
        "hp_manual = np.array([RAM, Harga ])\n",
        "hp_manual"
      ],
      "metadata": {
        "colab": {
          "base_uri": "https://localhost:8080/"
        },
        "id": "pgFPv5SeOvLI",
        "outputId": "0302d88e-28dd-46d4-af63-f2c176db8c34"
      },
      "execution_count": 43,
      "outputs": [
        {
          "output_type": "execute_result",
          "data": {
            "text/plain": [
              "array([      8, 3800000])"
            ]
          },
          "metadata": {},
          "execution_count": 43
        }
      ]
    },
    {
      "cell_type": "code",
      "source": [
        "# Menentukan secara manual jarak data baru dihitung berdasarkan jarak terdekatnya (Euclidean) \n",
        "\n",
        "from scipy.spatial.distance import euclidean\n",
        "\n",
        "jarak_data = [euclidean(hp_manual, d) for d in x_train]\n",
        "jarak_data"
      ],
      "metadata": {
        "colab": {
          "base_uri": "https://localhost:8080/"
        },
        "id": "jJ9LtcHvOxMn",
        "outputId": "c43e2817-0fb8-4ff9-b609-a0217dd21898"
      },
      "execution_count": 44,
      "outputs": [
        {
          "output_type": "execute_result",
          "data": {
            "text/plain": [
              "[499000.0,\n",
              " 1361000.000005878,\n",
              " 560000.0,\n",
              " 2199000.0,\n",
              " 1150000.0,\n",
              " 799000.0,\n",
              " 1800000.000001111,\n",
              " 1399000.0,\n",
              " 1701000.0000047032,\n",
              " 1121000.0000017842,\n",
              " 835000.0000023952,\n",
              " 920000.0,\n",
              " 2350000.0000053192,\n",
              " 2160000.0000057872,\n",
              " 1400000.0000057144,\n",
              " 51000.0,\n",
              " 700000.0,\n",
              " 1481000.0000054017,\n",
              " 441000.00000453513,\n",
              " 2375000.0000052634]"
            ]
          },
          "metadata": {},
          "execution_count": 44
        }
      ]
    },
    {
      "cell_type": "code",
      "source": [
        "# Sehingga Data Terurut berdasar data terdekat karena K = 3 \n",
        "# maka yang diambil 3 teratas dan hasilnya dominan Samsung Galaxy 2 dan Oppo 1\n",
        "\n",
        "hp_df['euclidean'] = jarak_data\n",
        "hp_df.sort_values(['euclidean'])"
      ],
      "metadata": {
        "colab": {
          "base_uri": "https://localhost:8080/",
          "height": 677
        },
        "id": "V_GBxEASOzE3",
        "outputId": "6e63f117-ec4c-424f-f23d-4de47531d113"
      },
      "execution_count": 45,
      "outputs": [
        {
          "output_type": "execute_result",
          "data": {
            "text/plain": [
              "    RAM    Harga           Brand     euclidean\n",
              "15    8  3749000  Samsung Galaxy  5.100000e+04\n",
              "18    6  3359000  Samsung Galaxy  4.410000e+05\n",
              "0     8  4299000            Oppo  4.990000e+05\n",
              "2     8  4360000            Oppo  5.600000e+05\n",
              "16    8  4500000  Samsung Galaxy  7.000000e+05\n",
              "5     8  4599000  Samsung Galaxy  7.990000e+05\n",
              "10    6  2965000            Oppo  8.350000e+05\n",
              "11    8  2880000            Oppo  9.200000e+05\n",
              "9     6  2679000  Samsung Galaxy  1.121000e+06\n",
              "4     8  4950000            Oppo  1.150000e+06\n",
              "1     4  2439000            Oppo  1.361000e+06\n",
              "7     8  5199000  Samsung Galaxy  1.399000e+06\n",
              "14    4  2400000            Oppo  1.400000e+06\n",
              "17    4  2319000  Samsung Galaxy  1.481000e+06\n",
              "8     4  2099000  Samsung Galaxy  1.701000e+06\n",
              "6     6  5600000  Samsung Galaxy  1.800000e+06\n",
              "13    3  1640000            Oppo  2.160000e+06\n",
              "3     8  5999000            Oppo  2.199000e+06\n",
              "12    3  1450000            Oppo  2.350000e+06\n",
              "19    3  1425000  Samsung Galaxy  2.375000e+06"
            ],
            "text/html": [
              "\n",
              "  <div id=\"df-5f330e83-ff1f-4721-bd26-8474e5742230\">\n",
              "    <div class=\"colab-df-container\">\n",
              "      <div>\n",
              "<style scoped>\n",
              "    .dataframe tbody tr th:only-of-type {\n",
              "        vertical-align: middle;\n",
              "    }\n",
              "\n",
              "    .dataframe tbody tr th {\n",
              "        vertical-align: top;\n",
              "    }\n",
              "\n",
              "    .dataframe thead th {\n",
              "        text-align: right;\n",
              "    }\n",
              "</style>\n",
              "<table border=\"1\" class=\"dataframe\">\n",
              "  <thead>\n",
              "    <tr style=\"text-align: right;\">\n",
              "      <th></th>\n",
              "      <th>RAM</th>\n",
              "      <th>Harga</th>\n",
              "      <th>Brand</th>\n",
              "      <th>euclidean</th>\n",
              "    </tr>\n",
              "  </thead>\n",
              "  <tbody>\n",
              "    <tr>\n",
              "      <th>15</th>\n",
              "      <td>8</td>\n",
              "      <td>3749000</td>\n",
              "      <td>Samsung Galaxy</td>\n",
              "      <td>5.100000e+04</td>\n",
              "    </tr>\n",
              "    <tr>\n",
              "      <th>18</th>\n",
              "      <td>6</td>\n",
              "      <td>3359000</td>\n",
              "      <td>Samsung Galaxy</td>\n",
              "      <td>4.410000e+05</td>\n",
              "    </tr>\n",
              "    <tr>\n",
              "      <th>0</th>\n",
              "      <td>8</td>\n",
              "      <td>4299000</td>\n",
              "      <td>Oppo</td>\n",
              "      <td>4.990000e+05</td>\n",
              "    </tr>\n",
              "    <tr>\n",
              "      <th>2</th>\n",
              "      <td>8</td>\n",
              "      <td>4360000</td>\n",
              "      <td>Oppo</td>\n",
              "      <td>5.600000e+05</td>\n",
              "    </tr>\n",
              "    <tr>\n",
              "      <th>16</th>\n",
              "      <td>8</td>\n",
              "      <td>4500000</td>\n",
              "      <td>Samsung Galaxy</td>\n",
              "      <td>7.000000e+05</td>\n",
              "    </tr>\n",
              "    <tr>\n",
              "      <th>5</th>\n",
              "      <td>8</td>\n",
              "      <td>4599000</td>\n",
              "      <td>Samsung Galaxy</td>\n",
              "      <td>7.990000e+05</td>\n",
              "    </tr>\n",
              "    <tr>\n",
              "      <th>10</th>\n",
              "      <td>6</td>\n",
              "      <td>2965000</td>\n",
              "      <td>Oppo</td>\n",
              "      <td>8.350000e+05</td>\n",
              "    </tr>\n",
              "    <tr>\n",
              "      <th>11</th>\n",
              "      <td>8</td>\n",
              "      <td>2880000</td>\n",
              "      <td>Oppo</td>\n",
              "      <td>9.200000e+05</td>\n",
              "    </tr>\n",
              "    <tr>\n",
              "      <th>9</th>\n",
              "      <td>6</td>\n",
              "      <td>2679000</td>\n",
              "      <td>Samsung Galaxy</td>\n",
              "      <td>1.121000e+06</td>\n",
              "    </tr>\n",
              "    <tr>\n",
              "      <th>4</th>\n",
              "      <td>8</td>\n",
              "      <td>4950000</td>\n",
              "      <td>Oppo</td>\n",
              "      <td>1.150000e+06</td>\n",
              "    </tr>\n",
              "    <tr>\n",
              "      <th>1</th>\n",
              "      <td>4</td>\n",
              "      <td>2439000</td>\n",
              "      <td>Oppo</td>\n",
              "      <td>1.361000e+06</td>\n",
              "    </tr>\n",
              "    <tr>\n",
              "      <th>7</th>\n",
              "      <td>8</td>\n",
              "      <td>5199000</td>\n",
              "      <td>Samsung Galaxy</td>\n",
              "      <td>1.399000e+06</td>\n",
              "    </tr>\n",
              "    <tr>\n",
              "      <th>14</th>\n",
              "      <td>4</td>\n",
              "      <td>2400000</td>\n",
              "      <td>Oppo</td>\n",
              "      <td>1.400000e+06</td>\n",
              "    </tr>\n",
              "    <tr>\n",
              "      <th>17</th>\n",
              "      <td>4</td>\n",
              "      <td>2319000</td>\n",
              "      <td>Samsung Galaxy</td>\n",
              "      <td>1.481000e+06</td>\n",
              "    </tr>\n",
              "    <tr>\n",
              "      <th>8</th>\n",
              "      <td>4</td>\n",
              "      <td>2099000</td>\n",
              "      <td>Samsung Galaxy</td>\n",
              "      <td>1.701000e+06</td>\n",
              "    </tr>\n",
              "    <tr>\n",
              "      <th>6</th>\n",
              "      <td>6</td>\n",
              "      <td>5600000</td>\n",
              "      <td>Samsung Galaxy</td>\n",
              "      <td>1.800000e+06</td>\n",
              "    </tr>\n",
              "    <tr>\n",
              "      <th>13</th>\n",
              "      <td>3</td>\n",
              "      <td>1640000</td>\n",
              "      <td>Oppo</td>\n",
              "      <td>2.160000e+06</td>\n",
              "    </tr>\n",
              "    <tr>\n",
              "      <th>3</th>\n",
              "      <td>8</td>\n",
              "      <td>5999000</td>\n",
              "      <td>Oppo</td>\n",
              "      <td>2.199000e+06</td>\n",
              "    </tr>\n",
              "    <tr>\n",
              "      <th>12</th>\n",
              "      <td>3</td>\n",
              "      <td>1450000</td>\n",
              "      <td>Oppo</td>\n",
              "      <td>2.350000e+06</td>\n",
              "    </tr>\n",
              "    <tr>\n",
              "      <th>19</th>\n",
              "      <td>3</td>\n",
              "      <td>1425000</td>\n",
              "      <td>Samsung Galaxy</td>\n",
              "      <td>2.375000e+06</td>\n",
              "    </tr>\n",
              "  </tbody>\n",
              "</table>\n",
              "</div>\n",
              "      <button class=\"colab-df-convert\" onclick=\"convertToInteractive('df-5f330e83-ff1f-4721-bd26-8474e5742230')\"\n",
              "              title=\"Convert this dataframe to an interactive table.\"\n",
              "              style=\"display:none;\">\n",
              "        \n",
              "  <svg xmlns=\"http://www.w3.org/2000/svg\" height=\"24px\"viewBox=\"0 0 24 24\"\n",
              "       width=\"24px\">\n",
              "    <path d=\"M0 0h24v24H0V0z\" fill=\"none\"/>\n",
              "    <path d=\"M18.56 5.44l.94 2.06.94-2.06 2.06-.94-2.06-.94-.94-2.06-.94 2.06-2.06.94zm-11 1L8.5 8.5l.94-2.06 2.06-.94-2.06-.94L8.5 2.5l-.94 2.06-2.06.94zm10 10l.94 2.06.94-2.06 2.06-.94-2.06-.94-.94-2.06-.94 2.06-2.06.94z\"/><path d=\"M17.41 7.96l-1.37-1.37c-.4-.4-.92-.59-1.43-.59-.52 0-1.04.2-1.43.59L10.3 9.45l-7.72 7.72c-.78.78-.78 2.05 0 2.83L4 21.41c.39.39.9.59 1.41.59.51 0 1.02-.2 1.41-.59l7.78-7.78 2.81-2.81c.8-.78.8-2.07 0-2.86zM5.41 20L4 18.59l7.72-7.72 1.47 1.35L5.41 20z\"/>\n",
              "  </svg>\n",
              "      </button>\n",
              "      \n",
              "  <style>\n",
              "    .colab-df-container {\n",
              "      display:flex;\n",
              "      flex-wrap:wrap;\n",
              "      gap: 12px;\n",
              "    }\n",
              "\n",
              "    .colab-df-convert {\n",
              "      background-color: #E8F0FE;\n",
              "      border: none;\n",
              "      border-radius: 50%;\n",
              "      cursor: pointer;\n",
              "      display: none;\n",
              "      fill: #1967D2;\n",
              "      height: 32px;\n",
              "      padding: 0 0 0 0;\n",
              "      width: 32px;\n",
              "    }\n",
              "\n",
              "    .colab-df-convert:hover {\n",
              "      background-color: #E2EBFA;\n",
              "      box-shadow: 0px 1px 2px rgba(60, 64, 67, 0.3), 0px 1px 3px 1px rgba(60, 64, 67, 0.15);\n",
              "      fill: #174EA6;\n",
              "    }\n",
              "\n",
              "    [theme=dark] .colab-df-convert {\n",
              "      background-color: #3B4455;\n",
              "      fill: #D2E3FC;\n",
              "    }\n",
              "\n",
              "    [theme=dark] .colab-df-convert:hover {\n",
              "      background-color: #434B5C;\n",
              "      box-shadow: 0px 1px 3px 1px rgba(0, 0, 0, 0.15);\n",
              "      filter: drop-shadow(0px 1px 2px rgba(0, 0, 0, 0.3));\n",
              "      fill: #FFFFFF;\n",
              "    }\n",
              "  </style>\n",
              "\n",
              "      <script>\n",
              "        const buttonEl =\n",
              "          document.querySelector('#df-5f330e83-ff1f-4721-bd26-8474e5742230 button.colab-df-convert');\n",
              "        buttonEl.style.display =\n",
              "          google.colab.kernel.accessAllowed ? 'block' : 'none';\n",
              "\n",
              "        async function convertToInteractive(key) {\n",
              "          const element = document.querySelector('#df-5f330e83-ff1f-4721-bd26-8474e5742230');\n",
              "          const dataTable =\n",
              "            await google.colab.kernel.invokeFunction('convertToInteractive',\n",
              "                                                     [key], {});\n",
              "          if (!dataTable) return;\n",
              "\n",
              "          const docLinkHtml = 'Like what you see? Visit the ' +\n",
              "            '<a target=\"_blank\" href=https://colab.research.google.com/notebooks/data_table.ipynb>data table notebook</a>'\n",
              "            + ' to learn more about interactive tables.';\n",
              "          element.innerHTML = '';\n",
              "          dataTable['output_type'] = 'display_data';\n",
              "          await google.colab.output.renderOutput(dataTable, element);\n",
              "          const docLink = document.createElement('div');\n",
              "          docLink.innerHTML = docLinkHtml;\n",
              "          element.appendChild(docLink);\n",
              "        }\n",
              "      </script>\n",
              "    </div>\n",
              "  </div>\n",
              "  "
            ]
          },
          "metadata": {},
          "execution_count": 45
        }
      ]
    },
    {
      "cell_type": "code",
      "source": [
        "X_test = np.array([[6, 3359000], [4, 2439000], [3,1300000], [6, 5600000], [4, 2299000], [3, 1350000]])\n",
        "Y_test = lb.transform(np.array(['Samsung Galaxy', 'Oppo', 'Oppo', 'Samsung Galaxy', 'Oppo', 'Samsung Galaxy']))\n",
        "\n",
        "print (f'X_test:\\n{X_test}')\n",
        "print (f'Y_test:\\n{Y_test}')"
      ],
      "metadata": {
        "colab": {
          "base_uri": "https://localhost:8080/"
        },
        "id": "tlO02OmpO1uO",
        "outputId": "f2e8416d-7112-4e97-e8f1-e9a6aaee3f32"
      },
      "execution_count": 46,
      "outputs": [
        {
          "output_type": "stream",
          "name": "stdout",
          "text": [
            "X_test:\n",
            "[[      6 3359000]\n",
            " [      4 2439000]\n",
            " [      3 1300000]\n",
            " [      6 5600000]\n",
            " [      4 2299000]\n",
            " [      3 1350000]]\n",
            "Y_test:\n",
            "[[1]\n",
            " [0]\n",
            " [0]\n",
            " [1]\n",
            " [0]\n",
            " [1]]\n"
          ]
        }
      ]
    },
    {
      "cell_type": "code",
      "source": [
        "y_pred = model.predict(X_test)\n",
        "y_pred"
      ],
      "metadata": {
        "colab": {
          "base_uri": "https://localhost:8080/"
        },
        "id": "sZc56B0ZO4Bs",
        "outputId": "40d951b6-37ba-4cfb-82ef-7d1b5c6ceb3d"
      },
      "execution_count": 47,
      "outputs": [
        {
          "output_type": "execute_result",
          "data": {
            "text/plain": [
              "array([1, 0, 0, 1, 0, 0])"
            ]
          },
          "metadata": {},
          "execution_count": 47
        }
      ]
    },
    {
      "cell_type": "code",
      "source": [
        "#accuracy\n",
        "\n",
        "from sklearn.metrics import accuracy_score\n",
        "\n",
        "acc = accuracy_score(Y_test, y_pred)\n",
        "\n",
        "print (f'Accuracy : {acc}')"
      ],
      "metadata": {
        "colab": {
          "base_uri": "https://localhost:8080/"
        },
        "id": "ThRZdMbOO6Am",
        "outputId": "6da11899-1c98-4827-c387-cd7ca50e1f59"
      },
      "execution_count": 48,
      "outputs": [
        {
          "output_type": "stream",
          "name": "stdout",
          "text": [
            "Accuracy : 0.8333333333333334\n"
          ]
        }
      ]
    }
  ]
}